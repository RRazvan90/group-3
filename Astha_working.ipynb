{
 "cells": [
  {
   "cell_type": "code",
   "execution_count": 1,
   "id": "60fd9861",
   "metadata": {},
   "outputs": [
    {
     "data": {
      "text/html": [
       "<style>.container { width:100% !important; }</style>"
      ],
      "text/plain": [
       "<IPython.core.display.HTML object>"
      ]
     },
     "metadata": {},
     "output_type": "display_data"
    },
    {
     "name": "stdout",
     "output_type": "stream",
     "text": [
      "C:\\Users\\User\\Desktop\\Anshu\\week 7-project\\git\\group-3\n"
     ]
    }
   ],
   "source": [
    "\n",
    "from IPython.display import display, HTML\n",
    "display(HTML(\"<style>.container { width:100% !important; }</style>\"))\n",
    "\n",
    "from IPython.display import display, HTML\n",
    "import pandas as pd\n",
    "import os\n",
    "import matplotlib.pyplot as plt\n",
    "import scipy.stats as st\n",
    "import numpy as np\n",
    "\n",
    "\n",
    "print(os.getcwd())"
   ]
  },
  {
   "cell_type": "markdown",
   "id": "cb6e3bcc",
   "metadata": {},
   "source": [
    "# cleaning the data removing the \"$\" and \",\". and then converting required variable to float."
   ]
  },
  {
   "cell_type": "code",
   "execution_count": 2,
   "id": "66e5907e",
   "metadata": {},
   "outputs": [
    {
     "name": "stderr",
     "output_type": "stream",
     "text": [
      "C:\\Users\\User\\AppData\\Local\\Temp\\ipykernel_21288\\150519528.py:3: FutureWarning: The default value of regex will change from True to False in a future version. In addition, single character regular expressions will *not* be treated as literal strings when regex=True.\n",
      "  df_degrees ['Starting Median Salary'] = df_degrees ['Starting Median Salary'].str.replace(',', '').str.replace('$', '')\n",
      "C:\\Users\\User\\AppData\\Local\\Temp\\ipykernel_21288\\150519528.py:6: FutureWarning: The default value of regex will change from True to False in a future version. In addition, single character regular expressions will *not* be treated as literal strings when regex=True.\n",
      "  df_degrees ['Mid-Career Median Salary'] = df_degrees ['Mid-Career Median Salary'].str.replace(',', '').str.replace('$', '')\n",
      "C:\\Users\\User\\AppData\\Local\\Temp\\ipykernel_21288\\150519528.py:9: FutureWarning: The default value of regex will change from True to False in a future version. In addition, single character regular expressions will *not* be treated as literal strings when regex=True.\n",
      "  df_degrees ['Mid-Career 10th Percentile Salary'] = df_degrees ['Mid-Career 10th Percentile Salary'].str.replace(',', '').str.replace('$', '')\n",
      "C:\\Users\\User\\AppData\\Local\\Temp\\ipykernel_21288\\150519528.py:12: FutureWarning: The default value of regex will change from True to False in a future version. In addition, single character regular expressions will *not* be treated as literal strings when regex=True.\n",
      "  df_degrees ['Mid-Career 25th Percentile Salary'] = df_degrees ['Mid-Career 25th Percentile Salary'].str.replace(',', '').str.replace('$', '')\n",
      "C:\\Users\\User\\AppData\\Local\\Temp\\ipykernel_21288\\150519528.py:15: FutureWarning: The default value of regex will change from True to False in a future version. In addition, single character regular expressions will *not* be treated as literal strings when regex=True.\n",
      "  df_degrees ['Mid-Career 75th Percentile Salary'] = df_degrees ['Mid-Career 75th Percentile Salary'].str.replace(',', '').str.replace('$', '')\n",
      "C:\\Users\\User\\AppData\\Local\\Temp\\ipykernel_21288\\150519528.py:18: FutureWarning: The default value of regex will change from True to False in a future version. In addition, single character regular expressions will *not* be treated as literal strings when regex=True.\n",
      "  df_degrees['Mid-Career 90th Percentile Salary'] = df_degrees['Mid-Career 90th Percentile Salary'].str.replace(',', '').str.replace('$', '')\n",
      "C:\\Users\\User\\AppData\\Local\\Temp\\ipykernel_21288\\150519528.py:25: FutureWarning: The default value of regex will change from True to False in a future version. In addition, single character regular expressions will *not* be treated as literal strings when regex=True.\n",
      "  df_college ['Starting Median Salary'] = df_college ['Starting Median Salary'].str.replace(',', '').str.replace('$', '')\n",
      "C:\\Users\\User\\AppData\\Local\\Temp\\ipykernel_21288\\150519528.py:29: FutureWarning: The default value of regex will change from True to False in a future version. In addition, single character regular expressions will *not* be treated as literal strings when regex=True.\n",
      "  df_college ['Mid-Career Median Salary'] = df_college ['Mid-Career Median Salary'].str.replace(',', '').str.replace('$', '')\n",
      "C:\\Users\\User\\AppData\\Local\\Temp\\ipykernel_21288\\150519528.py:33: FutureWarning: The default value of regex will change from True to False in a future version. In addition, single character regular expressions will *not* be treated as literal strings when regex=True.\n",
      "  df_college ['Mid-Career 10th Percentile Salary'] = df_college ['Mid-Career 10th Percentile Salary'].str.replace(',', '').str.replace('$', '')\n",
      "C:\\Users\\User\\AppData\\Local\\Temp\\ipykernel_21288\\150519528.py:36: FutureWarning: The default value of regex will change from True to False in a future version. In addition, single character regular expressions will *not* be treated as literal strings when regex=True.\n",
      "  df_college ['Mid-Career 25th Percentile Salary'] = df_college ['Mid-Career 25th Percentile Salary'].str.replace(',', '').str.replace('$', '')\n",
      "C:\\Users\\User\\AppData\\Local\\Temp\\ipykernel_21288\\150519528.py:41: FutureWarning: The default value of regex will change from True to False in a future version. In addition, single character regular expressions will *not* be treated as literal strings when regex=True.\n",
      "  df_college ['Mid-Career 75th Percentile Salary'] = df_college ['Mid-Career 75th Percentile Salary'].str.replace(',', '').str.replace('$', '')\n",
      "C:\\Users\\User\\AppData\\Local\\Temp\\ipykernel_21288\\150519528.py:45: FutureWarning: The default value of regex will change from True to False in a future version. In addition, single character regular expressions will *not* be treated as literal strings when regex=True.\n",
      "  df_college ['Mid-Career 90th Percentile Salary'] = df_college ['Mid-Career 90th Percentile Salary'].str.replace(',', '').str.replace('$', '')\n",
      "C:\\Users\\User\\AppData\\Local\\Temp\\ipykernel_21288\\150519528.py:51: FutureWarning: The default value of regex will change from True to False in a future version. In addition, single character regular expressions will *not* be treated as literal strings when regex=True.\n",
      "  df_region ['Starting Median Salary'] = df_region ['Starting Median Salary'].str.replace(',', '').str.replace('$', '')\n",
      "C:\\Users\\User\\AppData\\Local\\Temp\\ipykernel_21288\\150519528.py:55: FutureWarning: The default value of regex will change from True to False in a future version. In addition, single character regular expressions will *not* be treated as literal strings when regex=True.\n",
      "  df_region ['Mid-Career Median Salary'] = df_region ['Mid-Career Median Salary'].str.replace(',', '').str.replace('$', '')\n",
      "C:\\Users\\User\\AppData\\Local\\Temp\\ipykernel_21288\\150519528.py:58: FutureWarning: The default value of regex will change from True to False in a future version. In addition, single character regular expressions will *not* be treated as literal strings when regex=True.\n",
      "  df_region['Mid-Career 10th Percentile Salary'] = df_region ['Mid-Career 10th Percentile Salary'].str.replace(',', '').str.replace('$', '')\n",
      "C:\\Users\\User\\AppData\\Local\\Temp\\ipykernel_21288\\150519528.py:63: FutureWarning: The default value of regex will change from True to False in a future version. In addition, single character regular expressions will *not* be treated as literal strings when regex=True.\n",
      "  df_region['Mid-Career 25th Percentile Salary'] = df_region ['Mid-Career 25th Percentile Salary'].str.replace(',', '').str.replace('$', '')\n",
      "C:\\Users\\User\\AppData\\Local\\Temp\\ipykernel_21288\\150519528.py:66: FutureWarning: The default value of regex will change from True to False in a future version. In addition, single character regular expressions will *not* be treated as literal strings when regex=True.\n",
      "  df_region['Mid-Career 75th Percentile Salary'] = df_region ['Mid-Career 75th Percentile Salary'].str.replace(',', '').str.replace('$', '')\n",
      "C:\\Users\\User\\AppData\\Local\\Temp\\ipykernel_21288\\150519528.py:69: FutureWarning: The default value of regex will change from True to False in a future version. In addition, single character regular expressions will *not* be treated as literal strings when regex=True.\n",
      "  df_region ['Mid-Career 90th Percentile Salary'] = df_region['Mid-Career 90th Percentile Salary'].str.replace(',', '').str.replace('$', '')\n"
     ]
    },
    {
     "data": {
      "text/html": [
       "<div>\n",
       "<style scoped>\n",
       "    .dataframe tbody tr th:only-of-type {\n",
       "        vertical-align: middle;\n",
       "    }\n",
       "\n",
       "    .dataframe tbody tr th {\n",
       "        vertical-align: top;\n",
       "    }\n",
       "\n",
       "    .dataframe thead th {\n",
       "        text-align: right;\n",
       "    }\n",
       "</style>\n",
       "<table border=\"1\" class=\"dataframe\">\n",
       "  <thead>\n",
       "    <tr style=\"text-align: right;\">\n",
       "      <th></th>\n",
       "      <th>Undergraduate Major</th>\n",
       "      <th>Starting Median Salary</th>\n",
       "      <th>Mid-Career Median Salary</th>\n",
       "      <th>Percent change from Starting to Mid-Career Salary</th>\n",
       "      <th>Mid-Career 10th Percentile Salary</th>\n",
       "      <th>Mid-Career 25th Percentile Salary</th>\n",
       "      <th>Mid-Career 75th Percentile Salary</th>\n",
       "      <th>Mid-Career 90th Percentile Salary</th>\n",
       "    </tr>\n",
       "  </thead>\n",
       "  <tbody>\n",
       "    <tr>\n",
       "      <th>0</th>\n",
       "      <td>Accounting</td>\n",
       "      <td>46000.0</td>\n",
       "      <td>77100.0</td>\n",
       "      <td>67.6</td>\n",
       "      <td>42200.0</td>\n",
       "      <td>56100.0</td>\n",
       "      <td>108000.0</td>\n",
       "      <td>152000.0</td>\n",
       "    </tr>\n",
       "    <tr>\n",
       "      <th>1</th>\n",
       "      <td>Aerospace Engineering</td>\n",
       "      <td>57700.0</td>\n",
       "      <td>101000.0</td>\n",
       "      <td>75.0</td>\n",
       "      <td>64300.0</td>\n",
       "      <td>82100.0</td>\n",
       "      <td>127000.0</td>\n",
       "      <td>161000.0</td>\n",
       "    </tr>\n",
       "    <tr>\n",
       "      <th>2</th>\n",
       "      <td>Agriculture</td>\n",
       "      <td>42600.0</td>\n",
       "      <td>71900.0</td>\n",
       "      <td>68.8</td>\n",
       "      <td>36300.0</td>\n",
       "      <td>52100.0</td>\n",
       "      <td>96300.0</td>\n",
       "      <td>150000.0</td>\n",
       "    </tr>\n",
       "    <tr>\n",
       "      <th>3</th>\n",
       "      <td>Anthropology</td>\n",
       "      <td>36800.0</td>\n",
       "      <td>61500.0</td>\n",
       "      <td>67.1</td>\n",
       "      <td>33800.0</td>\n",
       "      <td>45500.0</td>\n",
       "      <td>89300.0</td>\n",
       "      <td>138000.0</td>\n",
       "    </tr>\n",
       "    <tr>\n",
       "      <th>4</th>\n",
       "      <td>Architecture</td>\n",
       "      <td>41600.0</td>\n",
       "      <td>76800.0</td>\n",
       "      <td>84.6</td>\n",
       "      <td>50600.0</td>\n",
       "      <td>62200.0</td>\n",
       "      <td>97000.0</td>\n",
       "      <td>136000.0</td>\n",
       "    </tr>\n",
       "  </tbody>\n",
       "</table>\n",
       "</div>"
      ],
      "text/plain": [
       "     Undergraduate Major  Starting Median Salary  Mid-Career Median Salary  \\\n",
       "0             Accounting                 46000.0                   77100.0   \n",
       "1  Aerospace Engineering                 57700.0                  101000.0   \n",
       "2            Agriculture                 42600.0                   71900.0   \n",
       "3           Anthropology                 36800.0                   61500.0   \n",
       "4           Architecture                 41600.0                   76800.0   \n",
       "\n",
       "   Percent change from Starting to Mid-Career Salary  \\\n",
       "0                                               67.6   \n",
       "1                                               75.0   \n",
       "2                                               68.8   \n",
       "3                                               67.1   \n",
       "4                                               84.6   \n",
       "\n",
       "   Mid-Career 10th Percentile Salary  Mid-Career 25th Percentile Salary  \\\n",
       "0                            42200.0                            56100.0   \n",
       "1                            64300.0                            82100.0   \n",
       "2                            36300.0                            52100.0   \n",
       "3                            33800.0                            45500.0   \n",
       "4                            50600.0                            62200.0   \n",
       "\n",
       "   Mid-Career 75th Percentile Salary  Mid-Career 90th Percentile Salary  \n",
       "0                           108000.0                           152000.0  \n",
       "1                           127000.0                           161000.0  \n",
       "2                            96300.0                           150000.0  \n",
       "3                            89300.0                           138000.0  \n",
       "4                            97000.0                           136000.0  "
      ]
     },
     "metadata": {},
     "output_type": "display_data"
    },
    {
     "data": {
      "text/html": [
       "<div>\n",
       "<style scoped>\n",
       "    .dataframe tbody tr th:only-of-type {\n",
       "        vertical-align: middle;\n",
       "    }\n",
       "\n",
       "    .dataframe tbody tr th {\n",
       "        vertical-align: top;\n",
       "    }\n",
       "\n",
       "    .dataframe thead th {\n",
       "        text-align: right;\n",
       "    }\n",
       "</style>\n",
       "<table border=\"1\" class=\"dataframe\">\n",
       "  <thead>\n",
       "    <tr style=\"text-align: right;\">\n",
       "      <th></th>\n",
       "      <th>School Name</th>\n",
       "      <th>School Type</th>\n",
       "      <th>Starting Median Salary</th>\n",
       "      <th>Mid-Career Median Salary</th>\n",
       "      <th>Mid-Career 10th Percentile Salary</th>\n",
       "      <th>Mid-Career 25th Percentile Salary</th>\n",
       "      <th>Mid-Career 75th Percentile Salary</th>\n",
       "      <th>Mid-Career 90th Percentile Salary</th>\n",
       "    </tr>\n",
       "  </thead>\n",
       "  <tbody>\n",
       "    <tr>\n",
       "      <th>0</th>\n",
       "      <td>Massachusetts Institute of Technology (MIT)</td>\n",
       "      <td>Engineering</td>\n",
       "      <td>72200.0</td>\n",
       "      <td>126000.0</td>\n",
       "      <td>76800.0</td>\n",
       "      <td>99200.0</td>\n",
       "      <td>168000.0</td>\n",
       "      <td>220000.0</td>\n",
       "    </tr>\n",
       "    <tr>\n",
       "      <th>1</th>\n",
       "      <td>California Institute of Technology (CIT)</td>\n",
       "      <td>Engineering</td>\n",
       "      <td>75500.0</td>\n",
       "      <td>123000.0</td>\n",
       "      <td>NaN</td>\n",
       "      <td>104000.0</td>\n",
       "      <td>161000.0</td>\n",
       "      <td>NaN</td>\n",
       "    </tr>\n",
       "    <tr>\n",
       "      <th>2</th>\n",
       "      <td>Harvey Mudd College</td>\n",
       "      <td>Engineering</td>\n",
       "      <td>71800.0</td>\n",
       "      <td>122000.0</td>\n",
       "      <td>NaN</td>\n",
       "      <td>96000.0</td>\n",
       "      <td>180000.0</td>\n",
       "      <td>NaN</td>\n",
       "    </tr>\n",
       "    <tr>\n",
       "      <th>3</th>\n",
       "      <td>Polytechnic University of New York, Brooklyn</td>\n",
       "      <td>Engineering</td>\n",
       "      <td>62400.0</td>\n",
       "      <td>114000.0</td>\n",
       "      <td>66800.0</td>\n",
       "      <td>94300.0</td>\n",
       "      <td>143000.0</td>\n",
       "      <td>190000.0</td>\n",
       "    </tr>\n",
       "    <tr>\n",
       "      <th>4</th>\n",
       "      <td>Cooper Union</td>\n",
       "      <td>Engineering</td>\n",
       "      <td>62200.0</td>\n",
       "      <td>114000.0</td>\n",
       "      <td>NaN</td>\n",
       "      <td>80200.0</td>\n",
       "      <td>142000.0</td>\n",
       "      <td>NaN</td>\n",
       "    </tr>\n",
       "  </tbody>\n",
       "</table>\n",
       "</div>"
      ],
      "text/plain": [
       "                                    School Name  School Type  \\\n",
       "0   Massachusetts Institute of Technology (MIT)  Engineering   \n",
       "1      California Institute of Technology (CIT)  Engineering   \n",
       "2                           Harvey Mudd College  Engineering   \n",
       "3  Polytechnic University of New York, Brooklyn  Engineering   \n",
       "4                                  Cooper Union  Engineering   \n",
       "\n",
       "   Starting Median Salary  Mid-Career Median Salary  \\\n",
       "0                 72200.0                  126000.0   \n",
       "1                 75500.0                  123000.0   \n",
       "2                 71800.0                  122000.0   \n",
       "3                 62400.0                  114000.0   \n",
       "4                 62200.0                  114000.0   \n",
       "\n",
       "   Mid-Career 10th Percentile Salary  Mid-Career 25th Percentile Salary  \\\n",
       "0                            76800.0                            99200.0   \n",
       "1                                NaN                           104000.0   \n",
       "2                                NaN                            96000.0   \n",
       "3                            66800.0                            94300.0   \n",
       "4                                NaN                            80200.0   \n",
       "\n",
       "   Mid-Career 75th Percentile Salary  Mid-Career 90th Percentile Salary  \n",
       "0                           168000.0                           220000.0  \n",
       "1                           161000.0                                NaN  \n",
       "2                           180000.0                                NaN  \n",
       "3                           143000.0                           190000.0  \n",
       "4                           142000.0                                NaN  "
      ]
     },
     "metadata": {},
     "output_type": "display_data"
    },
    {
     "data": {
      "text/html": [
       "<div>\n",
       "<style scoped>\n",
       "    .dataframe tbody tr th:only-of-type {\n",
       "        vertical-align: middle;\n",
       "    }\n",
       "\n",
       "    .dataframe tbody tr th {\n",
       "        vertical-align: top;\n",
       "    }\n",
       "\n",
       "    .dataframe thead th {\n",
       "        text-align: right;\n",
       "    }\n",
       "</style>\n",
       "<table border=\"1\" class=\"dataframe\">\n",
       "  <thead>\n",
       "    <tr style=\"text-align: right;\">\n",
       "      <th></th>\n",
       "      <th>School Name</th>\n",
       "      <th>Region</th>\n",
       "      <th>Starting Median Salary</th>\n",
       "      <th>Mid-Career Median Salary</th>\n",
       "      <th>Mid-Career 10th Percentile Salary</th>\n",
       "      <th>Mid-Career 25th Percentile Salary</th>\n",
       "      <th>Mid-Career 75th Percentile Salary</th>\n",
       "      <th>Mid-Career 90th Percentile Salary</th>\n",
       "    </tr>\n",
       "  </thead>\n",
       "  <tbody>\n",
       "    <tr>\n",
       "      <th>0</th>\n",
       "      <td>Stanford University</td>\n",
       "      <td>California</td>\n",
       "      <td>70400.0</td>\n",
       "      <td>129000.0</td>\n",
       "      <td>68400.0</td>\n",
       "      <td>93100.0</td>\n",
       "      <td>184000.0</td>\n",
       "      <td>257000.0</td>\n",
       "    </tr>\n",
       "    <tr>\n",
       "      <th>1</th>\n",
       "      <td>California Institute of Technology (CIT)</td>\n",
       "      <td>California</td>\n",
       "      <td>75500.0</td>\n",
       "      <td>123000.0</td>\n",
       "      <td>NaN</td>\n",
       "      <td>104000.0</td>\n",
       "      <td>161000.0</td>\n",
       "      <td>NaN</td>\n",
       "    </tr>\n",
       "    <tr>\n",
       "      <th>2</th>\n",
       "      <td>Harvey Mudd College</td>\n",
       "      <td>California</td>\n",
       "      <td>71800.0</td>\n",
       "      <td>122000.0</td>\n",
       "      <td>NaN</td>\n",
       "      <td>96000.0</td>\n",
       "      <td>180000.0</td>\n",
       "      <td>NaN</td>\n",
       "    </tr>\n",
       "    <tr>\n",
       "      <th>3</th>\n",
       "      <td>University of California, Berkeley</td>\n",
       "      <td>California</td>\n",
       "      <td>59900.0</td>\n",
       "      <td>112000.0</td>\n",
       "      <td>59500.0</td>\n",
       "      <td>81000.0</td>\n",
       "      <td>149000.0</td>\n",
       "      <td>201000.0</td>\n",
       "    </tr>\n",
       "    <tr>\n",
       "      <th>4</th>\n",
       "      <td>Occidental College</td>\n",
       "      <td>California</td>\n",
       "      <td>51900.0</td>\n",
       "      <td>105000.0</td>\n",
       "      <td>NaN</td>\n",
       "      <td>54800.0</td>\n",
       "      <td>157000.0</td>\n",
       "      <td>NaN</td>\n",
       "    </tr>\n",
       "  </tbody>\n",
       "</table>\n",
       "</div>"
      ],
      "text/plain": [
       "                                School Name      Region  \\\n",
       "0                       Stanford University  California   \n",
       "1  California Institute of Technology (CIT)  California   \n",
       "2                       Harvey Mudd College  California   \n",
       "3        University of California, Berkeley  California   \n",
       "4                        Occidental College  California   \n",
       "\n",
       "   Starting Median Salary  Mid-Career Median Salary  \\\n",
       "0                 70400.0                  129000.0   \n",
       "1                 75500.0                  123000.0   \n",
       "2                 71800.0                  122000.0   \n",
       "3                 59900.0                  112000.0   \n",
       "4                 51900.0                  105000.0   \n",
       "\n",
       "   Mid-Career 10th Percentile Salary  Mid-Career 25th Percentile Salary  \\\n",
       "0                            68400.0                            93100.0   \n",
       "1                                NaN                           104000.0   \n",
       "2                                NaN                            96000.0   \n",
       "3                            59500.0                            81000.0   \n",
       "4                                NaN                            54800.0   \n",
       "\n",
       "   Mid-Career 75th Percentile Salary  Mid-Career 90th Percentile Salary  \n",
       "0                           184000.0                           257000.0  \n",
       "1                           161000.0                                NaN  \n",
       "2                           180000.0                                NaN  \n",
       "3                           149000.0                           201000.0  \n",
       "4                           157000.0                                NaN  "
      ]
     },
     "metadata": {},
     "output_type": "display_data"
    }
   ],
   "source": [
    "#cleaing  the degrees data frame.\n",
    "df_degrees= pd.read_csv(r'./Resources/degrees-that-pay-back.csv')\n",
    "df_degrees ['Starting Median Salary'] = df_degrees ['Starting Median Salary'].str.replace(',', '').str.replace('$', '')\n",
    "df_degrees ['Starting Median Salary'] = df_degrees ['Starting Median Salary'].astype(float)\n",
    "\n",
    "df_degrees ['Mid-Career Median Salary'] = df_degrees ['Mid-Career Median Salary'].str.replace(',', '').str.replace('$', '')\n",
    "df_degrees ['Mid-Career Median Salary'] = df_degrees ['Mid-Career Median Salary'].astype(float)\n",
    "\n",
    "df_degrees ['Mid-Career 10th Percentile Salary'] = df_degrees ['Mid-Career 10th Percentile Salary'].str.replace(',', '').str.replace('$', '')\n",
    "df_degrees ['Mid-Career 10th Percentile Salary'] = df_degrees ['Mid-Career 10th Percentile Salary'].astype(float)\n",
    "\n",
    "df_degrees ['Mid-Career 25th Percentile Salary'] = df_degrees ['Mid-Career 25th Percentile Salary'].str.replace(',', '').str.replace('$', '')\n",
    "df_degrees ['Mid-Career 25th Percentile Salary'] = df_degrees ['Mid-Career 25th Percentile Salary'].astype(float)\n",
    "\n",
    "df_degrees ['Mid-Career 75th Percentile Salary'] = df_degrees ['Mid-Career 75th Percentile Salary'].str.replace(',', '').str.replace('$', '')\n",
    "df_degrees ['Mid-Career 75th Percentile Salary'] = df_degrees ['Mid-Career 75th Percentile Salary'].astype(float)\n",
    "\n",
    "df_degrees['Mid-Career 90th Percentile Salary'] = df_degrees['Mid-Career 90th Percentile Salary'].str.replace(',', '').str.replace('$', '')\n",
    "df_degrees['Mid-Career 90th Percentile Salary'] = df_degrees['Mid-Career 90th Percentile Salary'].astype(float)\n",
    "\n",
    "\n",
    "#now cleaing the college data frame .\n",
    "df_college= pd.read_csv(r'./Resources/salaries-by-college-type.csv')\n",
    "\n",
    "df_college ['Starting Median Salary'] = df_college ['Starting Median Salary'].str.replace(',', '').str.replace('$', '')\n",
    "df_college ['Starting Median Salary'] = df_college ['Starting Median Salary'].astype(float)\n",
    "\n",
    "\n",
    "df_college ['Mid-Career Median Salary'] = df_college ['Mid-Career Median Salary'].str.replace(',', '').str.replace('$', '')\n",
    "df_college ['Mid-Career Median Salary'] = df_college ['Mid-Career Median Salary'].astype(float)\n",
    "\n",
    "\n",
    "df_college ['Mid-Career 10th Percentile Salary'] = df_college ['Mid-Career 10th Percentile Salary'].str.replace(',', '').str.replace('$', '')\n",
    "df_college ['Mid-Career 10th Percentile Salary'] = df_college ['Mid-Career 10th Percentile Salary'].astype(float)\n",
    "\n",
    "df_college ['Mid-Career 25th Percentile Salary'] = df_college ['Mid-Career 25th Percentile Salary'].str.replace(',', '').str.replace('$', '')\n",
    "df_college ['Mid-Career 25th Percentile Salary'] = df_college ['Mid-Career 25th Percentile Salary'].astype(float)\n",
    "            \n",
    "            \n",
    "            \n",
    "df_college ['Mid-Career 75th Percentile Salary'] = df_college ['Mid-Career 75th Percentile Salary'].str.replace(',', '').str.replace('$', '')\n",
    "df_college ['Mid-Career 75th Percentile Salary'] = df_college ['Mid-Career 75th Percentile Salary'].astype(float)\n",
    "            \n",
    "\n",
    "df_college ['Mid-Career 90th Percentile Salary'] = df_college ['Mid-Career 90th Percentile Salary'].str.replace(',', '').str.replace('$', '')\n",
    "df_college ['Mid-Career 90th Percentile Salary'] = df_college ['Mid-Career 90th Percentile Salary'].astype(float)\n",
    "            \n",
    " #now cleaning the region data\n",
    " \n",
    "df_region= pd.read_csv(r'./Resources/salaries-by-region.csv') \n",
    "df_region ['Starting Median Salary'] = df_region ['Starting Median Salary'].str.replace(',', '').str.replace('$', '')\n",
    "df_region ['Starting Median Salary'] = df_region ['Starting Median Salary'].astype(float)\n",
    "\n",
    "\n",
    "df_region ['Mid-Career Median Salary'] = df_region ['Mid-Career Median Salary'].str.replace(',', '').str.replace('$', '')\n",
    "df_region['Mid-Career Median Salary'] = df_region ['Mid-Career Median Salary'].astype(float)\n",
    "\n",
    "df_region['Mid-Career 10th Percentile Salary'] = df_region ['Mid-Career 10th Percentile Salary'].str.replace(',', '').str.replace('$', '')\n",
    "df_region ['Mid-Career 10th Percentile Salary'] = df_region ['Mid-Career 10th Percentile Salary'].astype(float)\n",
    "\n",
    "\n",
    "\n",
    "df_region['Mid-Career 25th Percentile Salary'] = df_region ['Mid-Career 25th Percentile Salary'].str.replace(',', '').str.replace('$', '')\n",
    "df_region ['Mid-Career 25th Percentile Salary'] = df_region ['Mid-Career 25th Percentile Salary'].astype(float)\n",
    "\n",
    "df_region['Mid-Career 75th Percentile Salary'] = df_region ['Mid-Career 75th Percentile Salary'].str.replace(',', '').str.replace('$', '')\n",
    "df_region ['Mid-Career 75th Percentile Salary'] = df_region ['Mid-Career 75th Percentile Salary'].astype(float)\n",
    "  \n",
    "df_region ['Mid-Career 90th Percentile Salary'] = df_region['Mid-Career 90th Percentile Salary'].str.replace(',', '').str.replace('$', '')\n",
    "df_region ['Mid-Career 90th Percentile Salary'] = df_region ['Mid-Career 90th Percentile Salary'].astype(float)\n",
    "                                                            \n",
    "                                                                         \n",
    "display(df_degrees.head()) \n",
    "display(df_college.head())\n",
    "display(df_region.head())                                                     "
   ]
  },
  {
   "cell_type": "markdown",
   "id": "9736c3de",
   "metadata": {},
   "source": [
    "# creating subset"
   ]
  },
  {
   "cell_type": "code",
   "execution_count": 3,
   "id": "c4444769",
   "metadata": {
    "scrolled": false
   },
   "outputs": [
    {
     "data": {
      "text/plain": [
       "(269, 3)"
      ]
     },
     "metadata": {},
     "output_type": "display_data"
    },
    {
     "data": {
      "text/plain": [
       "(249, 3)"
      ]
     },
     "metadata": {},
     "output_type": "display_data"
    },
    {
     "data": {
      "text/html": [
       "<div>\n",
       "<style scoped>\n",
       "    .dataframe tbody tr th:only-of-type {\n",
       "        vertical-align: middle;\n",
       "    }\n",
       "\n",
       "    .dataframe tbody tr th {\n",
       "        vertical-align: top;\n",
       "    }\n",
       "\n",
       "    .dataframe thead th {\n",
       "        text-align: right;\n",
       "    }\n",
       "</style>\n",
       "<table border=\"1\" class=\"dataframe\">\n",
       "  <thead>\n",
       "    <tr style=\"text-align: right;\">\n",
       "      <th></th>\n",
       "      <th>School Name</th>\n",
       "      <th>Starting Median Salary</th>\n",
       "      <th>Mid-Career Median Salary</th>\n",
       "    </tr>\n",
       "  </thead>\n",
       "  <tbody>\n",
       "    <tr>\n",
       "      <th>0</th>\n",
       "      <td>Amherst College</td>\n",
       "      <td>54500.0</td>\n",
       "      <td>107000.0</td>\n",
       "    </tr>\n",
       "    <tr>\n",
       "      <th>1</th>\n",
       "      <td>Appalachian State University</td>\n",
       "      <td>40400.0</td>\n",
       "      <td>69100.0</td>\n",
       "    </tr>\n",
       "    <tr>\n",
       "      <th>2</th>\n",
       "      <td>Arizona State University (ASU)</td>\n",
       "      <td>47400.0</td>\n",
       "      <td>84100.0</td>\n",
       "    </tr>\n",
       "    <tr>\n",
       "      <th>3</th>\n",
       "      <td>Arkansas State University (ASU)</td>\n",
       "      <td>38700.0</td>\n",
       "      <td>63300.0</td>\n",
       "    </tr>\n",
       "    <tr>\n",
       "      <th>4</th>\n",
       "      <td>Auburn University</td>\n",
       "      <td>45400.0</td>\n",
       "      <td>84700.0</td>\n",
       "    </tr>\n",
       "    <tr>\n",
       "      <th>5</th>\n",
       "      <td>Austin Peay State University</td>\n",
       "      <td>37700.0</td>\n",
       "      <td>59200.0</td>\n",
       "    </tr>\n",
       "    <tr>\n",
       "      <th>6</th>\n",
       "      <td>Ball State University (BSU)</td>\n",
       "      <td>39100.0</td>\n",
       "      <td>64500.0</td>\n",
       "    </tr>\n",
       "    <tr>\n",
       "      <th>7</th>\n",
       "      <td>Bates College</td>\n",
       "      <td>47300.0</td>\n",
       "      <td>96500.0</td>\n",
       "    </tr>\n",
       "    <tr>\n",
       "      <th>8</th>\n",
       "      <td>Binghamton University</td>\n",
       "      <td>53600.0</td>\n",
       "      <td>95900.0</td>\n",
       "    </tr>\n",
       "    <tr>\n",
       "      <th>9</th>\n",
       "      <td>Black Hills State University</td>\n",
       "      <td>35300.0</td>\n",
       "      <td>43900.0</td>\n",
       "    </tr>\n",
       "  </tbody>\n",
       "</table>\n",
       "</div>"
      ],
      "text/plain": [
       "                       School Name  Starting Median Salary  \\\n",
       "0                  Amherst College                 54500.0   \n",
       "1     Appalachian State University                 40400.0   \n",
       "2   Arizona State University (ASU)                 47400.0   \n",
       "3  Arkansas State University (ASU)                 38700.0   \n",
       "4                Auburn University                 45400.0   \n",
       "5     Austin Peay State University                 37700.0   \n",
       "6      Ball State University (BSU)                 39100.0   \n",
       "7                    Bates College                 47300.0   \n",
       "8            Binghamton University                 53600.0   \n",
       "9     Black Hills State University                 35300.0   \n",
       "\n",
       "   Mid-Career Median Salary  \n",
       "0                  107000.0  \n",
       "1                   69100.0  \n",
       "2                   84100.0  \n",
       "3                   63300.0  \n",
       "4                   84700.0  \n",
       "5                   59200.0  \n",
       "6                   64500.0  \n",
       "7                   96500.0  \n",
       "8                   95900.0  \n",
       "9                   43900.0  "
      ]
     },
     "execution_count": 3,
     "metadata": {},
     "output_type": "execute_result"
    }
   ],
   "source": [
    "#subset three variable \n",
    "#groupby the data function.\n",
    "df_college_subset = df_college[['School Name','Starting Median Salary','Mid-Career Median Salary']]\n",
    "display(df_college_subset.shape)\n",
    "df_college_subset = df_college_subset[['School Name','Starting Median Salary','Mid-Career Median Salary']].groupby('School Name').mean().reset_index()\n",
    "display(df_college_subset.shape)\n",
    "df_college_subset.head(10)"
   ]
  },
  {
   "cell_type": "markdown",
   "id": "adb23198",
   "metadata": {},
   "source": [
    "# finding the rank in ascending and decending order"
   ]
  },
  {
   "cell_type": "code",
   "execution_count": 4,
   "id": "4b58a9a5",
   "metadata": {
    "scrolled": false
   },
   "outputs": [
    {
     "data": {
      "text/html": [
       "<div>\n",
       "<style scoped>\n",
       "    .dataframe tbody tr th:only-of-type {\n",
       "        vertical-align: middle;\n",
       "    }\n",
       "\n",
       "    .dataframe tbody tr th {\n",
       "        vertical-align: top;\n",
       "    }\n",
       "\n",
       "    .dataframe thead th {\n",
       "        text-align: right;\n",
       "    }\n",
       "</style>\n",
       "<table border=\"1\" class=\"dataframe\">\n",
       "  <thead>\n",
       "    <tr style=\"text-align: right;\">\n",
       "      <th></th>\n",
       "      <th>School Name</th>\n",
       "      <th>Starting Median Salary</th>\n",
       "      <th>Mid-Career Median Salary</th>\n",
       "      <th>starting_career_rank_asc</th>\n",
       "      <th>mid_career_rank_asc</th>\n",
       "      <th>starting_career_rank_dsc</th>\n",
       "      <th>mid_career_rank_dsc</th>\n",
       "    </tr>\n",
       "  </thead>\n",
       "  <tbody>\n",
       "    <tr>\n",
       "      <th>0</th>\n",
       "      <td>Amherst College</td>\n",
       "      <td>54500.0</td>\n",
       "      <td>107000.0</td>\n",
       "      <td>121.0</td>\n",
       "      <td>155.0</td>\n",
       "      <td>25.0</td>\n",
       "      <td>14.0</td>\n",
       "    </tr>\n",
       "    <tr>\n",
       "      <th>1</th>\n",
       "      <td>Appalachian State University</td>\n",
       "      <td>40400.0</td>\n",
       "      <td>69100.0</td>\n",
       "      <td>25.0</td>\n",
       "      <td>24.0</td>\n",
       "      <td>121.0</td>\n",
       "      <td>145.0</td>\n",
       "    </tr>\n",
       "    <tr>\n",
       "      <th>2</th>\n",
       "      <td>Arizona State University (ASU)</td>\n",
       "      <td>47400.0</td>\n",
       "      <td>84100.0</td>\n",
       "      <td>86.0</td>\n",
       "      <td>103.0</td>\n",
       "      <td>60.0</td>\n",
       "      <td>66.0</td>\n",
       "    </tr>\n",
       "    <tr>\n",
       "      <th>3</th>\n",
       "      <td>Arkansas State University (ASU)</td>\n",
       "      <td>38700.0</td>\n",
       "      <td>63300.0</td>\n",
       "      <td>14.0</td>\n",
       "      <td>9.0</td>\n",
       "      <td>132.0</td>\n",
       "      <td>160.0</td>\n",
       "    </tr>\n",
       "    <tr>\n",
       "      <th>4</th>\n",
       "      <td>Auburn University</td>\n",
       "      <td>45400.0</td>\n",
       "      <td>84700.0</td>\n",
       "      <td>67.0</td>\n",
       "      <td>109.0</td>\n",
       "      <td>79.0</td>\n",
       "      <td>60.0</td>\n",
       "    </tr>\n",
       "  </tbody>\n",
       "</table>\n",
       "</div>"
      ],
      "text/plain": [
       "                       School Name  Starting Median Salary  \\\n",
       "0                  Amherst College                 54500.0   \n",
       "1     Appalachian State University                 40400.0   \n",
       "2   Arizona State University (ASU)                 47400.0   \n",
       "3  Arkansas State University (ASU)                 38700.0   \n",
       "4                Auburn University                 45400.0   \n",
       "\n",
       "   Mid-Career Median Salary  starting_career_rank_asc  mid_career_rank_asc  \\\n",
       "0                  107000.0                     121.0                155.0   \n",
       "1                   69100.0                      25.0                 24.0   \n",
       "2                   84100.0                      86.0                103.0   \n",
       "3                   63300.0                      14.0                  9.0   \n",
       "4                   84700.0                      67.0                109.0   \n",
       "\n",
       "   starting_career_rank_dsc  mid_career_rank_dsc  \n",
       "0                      25.0                 14.0  \n",
       "1                     121.0                145.0  \n",
       "2                      60.0                 66.0  \n",
       "3                     132.0                160.0  \n",
       "4                      79.0                 60.0  "
      ]
     },
     "metadata": {},
     "output_type": "display_data"
    }
   ],
   "source": [
    "#finding the rank in acending order and decending order.\n",
    "df_college_subset['starting_career_rank_asc'] = df_college_subset['Starting Median Salary'].rank(method='dense', ascending=True)\n",
    "df_college_subset['mid_career_rank_asc'] = df_college_subset['Mid-Career Median Salary'].rank(method='dense', ascending=True)\n",
    "df_college_subset['starting_career_rank_dsc'] = df_college_subset['Starting Median Salary'].rank(method='dense', ascending=False)\n",
    "df_college_subset['mid_career_rank_dsc'] = df_college_subset['Mid-Career Median Salary'].rank(method='dense', ascending=False)\n",
    "display(df_college_subset.head())"
   ]
  },
  {
   "cell_type": "markdown",
   "id": "9cfa5312",
   "metadata": {},
   "source": [
    "# finding the top 10 colleges based on starting median salary."
   ]
  },
  {
   "cell_type": "code",
   "execution_count": 41,
   "id": "42e6a35f",
   "metadata": {},
   "outputs": [
    {
     "data": {
      "image/png": "[encoded data removed]",
      "text/plain": [
       "<Figure size 720x288 with 1 Axes>"
      ]
     },
     "metadata": {
      "needs_background": "light"
     },
     "output_type": "display_data"
    },
    {
     "data": {
      "text/plain": [
       "<Figure size 432x288 with 0 Axes>"
      ]
     },
     "metadata": {},
     "output_type": "display_data"
    }
   ],
   "source": [
    "\n",
    "#getting top 10 colleges based on satrting median salary\n",
    "df_college_top_10_start = df_college_subset[df_college_subset['starting_career_rank_dsc']<=10]\n",
    "#sorting the college based on starting median salary\n",
    "df_college_top_10_start= df_college_top_10_start[['School Name','Mid-Career Median Salary','Starting Median Salary']].sort_values(by=['Starting Median Salary'])\n",
    "#Top 10 univercity based on starting median salary \n",
    "df_college_top_10_start = df_college_top_10_start.set_index('School Name')\n",
    "\n",
    "# Generate a bar plot showing the Top 10 Schools by Starting Median Salary using pyplot.\n",
    "# Set x axis and tick locations\n",
    "\n",
    "df_college_top_10_start = df_college_top_10_start.reset_index()\n",
    "x_axis = np.arange(len(df_college_top_10_start))\n",
    "tick_locations = [value for value in x_axis]\n",
    "# Create a list indicating where to write x labels and set figure size to adjust for space\n",
    "plt.figure(figsize=(10,4))\n",
    "plt.bar(x_axis, df_college_top_10_start[\"Starting Median Salary\"], alpha=0.5, align=\"center\",color='g')\n",
    "plt.xticks(tick_locations, df_college_top_10_start['School Name'], rotation=\"vertical\")\n",
    "plt.title(\"Top 10 Schools by Starting Median Salary\")\n",
    "plt.ylabel(\"Starting Median Salary\")\n",
    "plt.gcf().axes[0].yaxis.get_major_formatter().set_scientific(False)\n",
    "\n",
    "plt.show()\n",
    "\n",
    "plt.tight_layout()"
   ]
  },
  {
   "cell_type": "markdown",
   "id": "32ec9fbf",
   "metadata": {},
   "source": [
    "# finding the top 10 colleges based on Mid-Career Median Salary"
   ]
  },
  {
   "cell_type": "code",
   "execution_count": 42,
   "id": "b180de10",
   "metadata": {},
   "outputs": [
    {
     "data": {
      "image/png": "[encoded data removed]",
      "text/plain": [
       "<Figure size 720x288 with 1 Axes>"
      ]
     },
     "metadata": {
      "needs_background": "light"
     },
     "output_type": "display_data"
    },
    {
     "data": {
      "text/plain": [
       "<Figure size 432x288 with 0 Axes>"
      ]
     },
     "metadata": {},
     "output_type": "display_data"
    }
   ],
   "source": [
    "\n",
    "#getting top 10 colleges based on Mid-Career Median Salary\n",
    "df_college_top_10_mid = df_college_subset[df_college_subset['mid_career_rank_dsc']<=10]\n",
    "#sorting the college based on Mid-Career Median Salary\n",
    "df_college_top_10_mid= df_college_top_10_mid[['School Name','Mid-Career Median Salary','Starting Median Salary']].sort_values(by=['Mid-Career Median Salary'])\n",
    "#Top 10 univercity based on  Mid-Career Median Salary \n",
    "df_college_top_10_mid = df_college_top_10_mid.set_index('School Name')\n",
    "\n",
    "# Generate a bar plot showing the Top 10 Schools by Mid-Career Median Salary using pyplot.\n",
    "# Set x axis and tick locations\n",
    "\n",
    "df_college_top_10_mid = df_college_top_10_mid.reset_index()\n",
    "x_axis = np.arange(len(df_college_top_10_mid))\n",
    "tick_locations = [value for value in x_axis]\n",
    "# Create a list indicating where to write x labels and set figure size to adjust for space\n",
    "plt.figure(figsize=(10,4))\n",
    "plt.bar(x_axis, df_college_top_10_mid[\"Mid-Career Median Salary\"], alpha=0.5, align=\"center\")\n",
    "plt.xticks(tick_locations, df_college_top_10_mid['School Name'], rotation=\"vertical\")\n",
    "plt.title(\"Top 10 Schools by Mid-Career Median Salary\")\n",
    "plt.ylabel(\"Mid-Career Median Salary\")\n",
    "plt.gcf().axes[0].yaxis.get_major_formatter().set_scientific(False)\n",
    "\n",
    "plt.show()\n",
    "plt.tight_layout()"
   ]
  },
  {
   "cell_type": "markdown",
   "id": "e3bc6e92",
   "metadata": {},
   "source": [
    "# Bottom 10 Schools by Starting Median Salary."
   ]
  },
  {
   "cell_type": "code",
   "execution_count": 40,
   "id": "d96a26bb",
   "metadata": {
    "scrolled": true
   },
   "outputs": [
    {
     "data": {
      "image/png": "[encoded data removed]",
      "text/plain": [
       "<Figure size 720x288 with 1 Axes>"
      ]
     },
     "metadata": {
      "needs_background": "light"
     },
     "output_type": "display_data"
    },
    {
     "data": {
      "text/plain": [
       "<Figure size 432x288 with 0 Axes>"
      ]
     },
     "metadata": {},
     "output_type": "display_data"
    }
   ],
   "source": [
    "\n",
    "#getting bottom 10 colleges based on satrting median salary\n",
    "df_college_bottom_10_start = df_college_subset[df_college_subset['starting_career_rank_asc']<=10]\n",
    "#sorting the college based on starting median salary\n",
    "df_college_bottom_10_start= df_college_bottom_10_start[['School Name','Mid-Career Median Salary','Starting Median Salary']].sort_values(by=['Starting Median Salary'])\n",
    "#bottom 10 univercity based on starting median salary \n",
    "df_college_bottom_10_start = df_college_bottom_10_start.set_index('School Name')\n",
    "\n",
    "# Generate a bar plot showing the bottom 10 Schools by Starting Median Salary using pyplot.\n",
    "# Set x axis and tick locations\n",
    "\n",
    "df_college_bottom_10_start = df_college_bottom_10_start.reset_index()\n",
    "x_axis = np.arange(len(df_college_bottom_10_start))\n",
    "tick_locations = [value for value in x_axis]\n",
    "# Create a list indicating where to write x labels and set figure size to adjust for space\n",
    "plt.figure(figsize=(10,4))\n",
    "plt.bar(x_axis, df_college_bottom_10_start[\"Starting Median Salary\"], alpha=0.5, align=\"center\",color='g')\n",
    "plt.xticks(tick_locations, df_college_bottom_10_start['School Name'], rotation=\"vertical\")\n",
    "plt.title(\"Bottom 10 Schools by Starting Median Salary\")\n",
    "plt.ylabel(\"Starting Median Salary\")\n",
    "plt.gcf().axes[0].yaxis.get_major_formatter().set_scientific(False)\n",
    "\n",
    "plt.show()\n",
    "plt.tight_layout()"
   ]
  },
  {
   "cell_type": "markdown",
   "id": "ca89d0f7",
   "metadata": {},
   "source": [
    "# Bottom 10 school by Mid-Career Median Salary."
   ]
  },
  {
   "cell_type": "code",
   "execution_count": 43,
   "id": "8346af8a",
   "metadata": {},
   "outputs": [
    {
     "data": {
      "image/png": "[encoded data removed]",
      "text/plain": [
       "<Figure size 720x288 with 1 Axes>"
      ]
     },
     "metadata": {
      "needs_background": "light"
     },
     "output_type": "display_data"
    },
    {
     "data": {
      "text/plain": [
       "<Figure size 432x288 with 0 Axes>"
      ]
     },
     "metadata": {},
     "output_type": "display_data"
    }
   ],
   "source": [
    "#getting bottom 10 colleges based on Mid-Career Median Salary\n",
    "df_college_bottom_10_mid = df_college_subset[df_college_subset['mid_career_rank_dsc']<=10]\n",
    "#sorting the college based on Mid-Career Median Salary\n",
    "df_college_bottom_10_mid= df_college_bottom_10_mid[['School Name','Mid-Career Median Salary','Starting Median Salary']].sort_values(by=['Mid-Career Median Salary'])\n",
    "#bottom 10 univercity based on Mid-Career Median Salary\n",
    "df_college_bottom_10_mid =df_college_bottom_10_mid.set_index('School Name')\n",
    "\n",
    "# Generate a bar plot showing the bottom 10 Schools by Mid-Career Median Salary using pyplot.\n",
    "# Set x axis and tick locations\n",
    "\n",
    "df_college_bottom_10_mid = df_college_bottom_10_mid.reset_index()\n",
    "x_axis = np.arange(len(df_college_bottom_10_mid))\n",
    "tick_locations = [value for value in x_axis]\n",
    "# Create a list indicating where to write x labels and set figure size to adjust for space\n",
    "plt.figure(figsize=(10,4))\n",
    "plt.bar(x_axis, df_college_bottom_10_mid[\"Mid-Career Median Salary\"], alpha=0.5, align=\"center\")\n",
    "plt.xticks(tick_locations, df_college_bottom_10_mid['School Name'], rotation=\"vertical\")\n",
    "plt.title(\"bottom 10 Schools by Mid-Career Median Salary\")\n",
    "plt.ylabel(\"Mid-Career Median Salary\")\n",
    "plt.gcf().axes[0].yaxis.get_major_formatter().set_scientific(False)\n",
    "\n",
    "plt.show()\n",
    "plt.tight_layout()"
   ]
  },
  {
   "cell_type": "markdown",
   "id": "abdcefac",
   "metadata": {},
   "source": [
    "# Getting the correlation between mid career median salary and starting median salary"
   ]
  },
  {
   "cell_type": "code",
   "execution_count": 9,
   "id": "b3040e44",
   "metadata": {},
   "outputs": [
    {
     "name": "stdout",
     "output_type": "stream",
     "text": [
      "The correlation between Starting Median Salary Mid-Career Median Salary is 0.89\n"
     ]
    }
   ],
   "source": [
    "#correlation between mid career median salary and starting median salary\n",
    "\n",
    "corr_df = round(st.pearsonr(df_college_subset['Starting Median Salary'],df_college_subset['Mid-Career Median Salary'])[0],2)\n",
    "print(f\"The correlation between Starting Median Salary Mid-Career Median Salary is {corr_df}\")"
   ]
  },
  {
   "cell_type": "code",
   "execution_count": 10,
   "id": "b5148c27",
   "metadata": {},
   "outputs": [
    {
     "data": {
      "text/plain": [
       "LinregressResult(slope=1.9990838722139548, intercept=-8279.456199433713, rvalue=0.8917447654588043, pvalue=5.028367660310872e-87, stderr=0.06455021501547403, intercept_stderr=3005.660571695701)"
      ]
     },
     "execution_count": 10,
     "metadata": {},
     "output_type": "execute_result"
    }
   ],
   "source": [
    "#getting variable for linear regression model \n",
    "liner_reg_model = st.linregress(df_college_subset['Starting Median Salary'],df_college_subset['Mid-Career Median Salary'])\n",
    "liner_reg_model\n"
   ]
  },
  {
   "cell_type": "code",
   "execution_count": 11,
   "id": "11fc2575",
   "metadata": {},
   "outputs": [],
   "source": [
    "mslope=slope=1.9990838722139548\n",
    "intercept=-8279.456199433713"
   ]
  },
  {
   "cell_type": "code",
   "execution_count": 12,
   "id": "6adb11c4",
   "metadata": {},
   "outputs": [
    {
     "data": {
      "image/png": "[encoded data removed]",
      "text/plain": [
       "<Figure size 432x288 with 1 Axes>"
      ]
     },
     "metadata": {
      "needs_background": "light"
     },
     "output_type": "display_data"
    }
   ],
   "source": [
    "#genrating the regression line for ploting\n",
    "y_values =  df_college_subset['Starting Median Salary']*mslope+intercept\n",
    "plt.scatter( df_college_subset['Starting Median Salary'], df_college_subset['Mid-Career Median Salary'])\n",
    "plt.plot( df_college_subset['Starting Median Salary'],y_values,color=\"red\")\n",
    "plt.xlabel('Starting Median Salary')\n",
    "plt.ylabel('Mid-Career Median Salary')\n",
    "#to remove the scintific notation.\n",
    "#plt.gcf().axes[0].yaxis.get_major_formatter().set_scientific(False)\n",
    "#plt.gcf().axes[0].xaxis.get_major_formatter().set_scientific(False)\n",
    "#plt.savefig('linearregression')\n",
    "plt.show()"
   ]
  },
  {
   "cell_type": "markdown",
   "id": "9e71f3a7",
   "metadata": {},
   "source": [
    "# Based on school type finding average salary. "
   ]
  },
  {
   "cell_type": "code",
   "execution_count": 13,
   "id": "3dcef7f1",
   "metadata": {},
   "outputs": [
    {
     "data": {
      "text/plain": [
       "(269, 3)"
      ]
     },
     "metadata": {},
     "output_type": "display_data"
    },
    {
     "data": {
      "text/plain": [
       "(5, 3)"
      ]
     },
     "metadata": {},
     "output_type": "display_data"
    }
   ],
   "source": [
    "df_college_type_subset = df_college[['School Type','Starting Median Salary','Mid-Career Median Salary']]\n",
    "display(df_college_type_subset .shape)\n",
    "df_college_type_subset  = df_college_type_subset[['School Type','Starting Median Salary','Mid-Career Median Salary']].groupby('School Type').mean().reset_index()\n",
    "display(df_college_type_subset .shape)"
   ]
  },
  {
   "cell_type": "code",
   "execution_count": 14,
   "id": "b6451420",
   "metadata": {},
   "outputs": [
    {
     "data": {
      "text/html": [
       "<div>\n",
       "<style scoped>\n",
       "    .dataframe tbody tr th:only-of-type {\n",
       "        vertical-align: middle;\n",
       "    }\n",
       "\n",
       "    .dataframe tbody tr th {\n",
       "        vertical-align: top;\n",
       "    }\n",
       "\n",
       "    .dataframe thead th {\n",
       "        text-align: right;\n",
       "    }\n",
       "</style>\n",
       "<table border=\"1\" class=\"dataframe\">\n",
       "  <thead>\n",
       "    <tr style=\"text-align: right;\">\n",
       "      <th></th>\n",
       "      <th>School Type</th>\n",
       "      <th>Starting Median Salary</th>\n",
       "      <th>Mid-Career Median Salary</th>\n",
       "    </tr>\n",
       "  </thead>\n",
       "  <tbody>\n",
       "    <tr>\n",
       "      <th>0</th>\n",
       "      <td>Engineering</td>\n",
       "      <td>59057.894737</td>\n",
       "      <td>103842.105263</td>\n",
       "    </tr>\n",
       "    <tr>\n",
       "      <th>1</th>\n",
       "      <td>Ivy League</td>\n",
       "      <td>60475.000000</td>\n",
       "      <td>120125.000000</td>\n",
       "    </tr>\n",
       "    <tr>\n",
       "      <th>2</th>\n",
       "      <td>Liberal Arts</td>\n",
       "      <td>45746.808511</td>\n",
       "      <td>89378.723404</td>\n",
       "    </tr>\n",
       "    <tr>\n",
       "      <th>3</th>\n",
       "      <td>Party</td>\n",
       "      <td>45715.000000</td>\n",
       "      <td>84685.000000</td>\n",
       "    </tr>\n",
       "    <tr>\n",
       "      <th>4</th>\n",
       "      <td>State</td>\n",
       "      <td>44126.285714</td>\n",
       "      <td>78567.428571</td>\n",
       "    </tr>\n",
       "  </tbody>\n",
       "</table>\n",
       "</div>"
      ],
      "text/plain": [
       "    School Type  Starting Median Salary  Mid-Career Median Salary\n",
       "0   Engineering            59057.894737             103842.105263\n",
       "1    Ivy League            60475.000000             120125.000000\n",
       "2  Liberal Arts            45746.808511              89378.723404\n",
       "3         Party            45715.000000              84685.000000\n",
       "4         State            44126.285714              78567.428571"
      ]
     },
     "execution_count": 14,
     "metadata": {},
     "output_type": "execute_result"
    }
   ],
   "source": [
    "df_college_type_subset"
   ]
  },
  {
   "cell_type": "code",
   "execution_count": 37,
   "id": "3804db89",
   "metadata": {},
   "outputs": [
    {
     "data": {
      "image/png": "[encoded data removed]",
      "text/plain": [
       "<Figure size 720x288 with 1 Axes>"
      ]
     },
     "metadata": {
      "needs_background": "light"
     },
     "output_type": "display_data"
    },
    {
     "data": {
      "text/plain": [
       "<Figure size 432x288 with 0 Axes>"
      ]
     },
     "metadata": {},
     "output_type": "display_data"
    }
   ],
   "source": [
    "x_axis = np.arange(len(df_college_type_subset))\n",
    "tick_locations = [value for value in x_axis]\n",
    "# Create a list indicating where to write x labels and set figure size to adjust for space\n",
    "plt.figure(figsize=(10,4))\n",
    "#creating a list for printing legend\n",
    "list_legend=[\"Avg Mid-Career Median Salary\",\"Avg Starting Median Salary\"]\n",
    "plt.bar(x_axis+.2, df_college_type_subset[\"Mid-Career Median Salary\"], alpha=0.5, align=\"center\",width=0.2)\n",
    "plt.bar(x_axis, df_college_type_subset[\"Starting Median Salary\"], alpha=0.5, align=\"center\",color='g',width=0.2)\n",
    "plt.xticks(tick_locations, df_college_type_subset['School Type'], rotation=\"vertical\")\n",
    "plt.title(\"Average salary by school type\")\n",
    "plt.ylabel(\"Median Salary\")\n",
    "\n",
    "plt.gcf().axes[0].yaxis.get_major_formatter().set_scientific(False)\n",
    "#printing legend\n",
    "plt.legend(list_legend)\n",
    "plt.show()\n",
    "plt.tight_layout()"
   ]
  }
 ],
 "metadata": {
  "kernelspec": {
   "display_name": "Python 3 (ipykernel)",
   "language": "python",
   "name": "python3"
  },
  "language_info": {
   "codemirror_mode": {
    "name": "ipython",
    "version": 3
   },
   "file_extension": ".py",
   "mimetype": "text/x-python",
   "name": "python",
   "nbconvert_exporter": "python",
   "pygments_lexer": "ipython3",
   "version": "3.9.12"
  }
 },
 "nbformat": 4,
 "nbformat_minor": 5
}
